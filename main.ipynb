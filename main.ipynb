{
 "cells": [
  {
   "cell_type": "code",
   "execution_count": 122,
   "metadata": {},
   "outputs": [
    {
     "name": "stdout",
     "output_type": "stream",
     "text": [
      "<class 'numpy.ndarray'> <class 'int'>\n",
      "(2120799,) 22050\n"
     ]
    }
   ],
   "source": [
    "import librosa\n",
    "import numpy as np\n",
    "audio_path = 'x.wav'\n",
    "x , sr = librosa.load(audio_path)\n",
    "print(type(x), type(sr))\n",
    "print(x.shape, sr)"
   ]
  },
  {
   "cell_type": "code",
   "execution_count": 123,
   "metadata": {},
   "outputs": [
    {
     "name": "stdout",
     "output_type": "stream",
     "text": [
      "1:36\n"
     ]
    }
   ],
   "source": [
    "time = x.shape[0]/sr\n",
    "min = int(time/60)\n",
    "sec = int(time-min*60)\n",
    "print('{}:{}'.format(min,sec))"
   ]
  },
  {
   "cell_type": "code",
   "execution_count": 124,
   "metadata": {},
   "outputs": [],
   "source": [
    "start_sec = 5\n",
    "strt_stmp = int(22050*start_sec)\n",
    "ln = 30\n",
    "end_stmp = int(strt_stmp + 22050*ln)\n",
    "# X= librosa.stft(x[strt_stmp:end_stmp])\n",
    "X= librosa.stft(x)"
   ]
  },
  {
   "cell_type": "code",
   "execution_count": 125,
   "metadata": {
    "scrolled": true
   },
   "outputs": [],
   "source": [
    "from matplotlib import  pyplot as plt\n",
    "import librosa.display\n",
    "Xdb = librosa.amplitude_to_db(abs(X))"
   ]
  },
  {
   "cell_type": "code",
   "execution_count": null,
   "metadata": {},
   "outputs": [
    {
     "data": {
      "text/plain": [
       "<matplotlib.colorbar.Colorbar at 0x7f0352369898>"
      ]
     },
     "execution_count": 126,
     "metadata": {},
     "output_type": "execute_result"
    }
   ],
   "source": [
    "plt.figure(figsize=(14, 6))\n",
    "plt.axis([0,96,0,1000])\n",
    "librosa.display.specshow(Xdb, sr=sr, x_axis='time', y_axis='log')\n",
    "plt.colorbar()"
   ]
  },
  {
   "cell_type": "code",
   "execution_count": null,
   "metadata": {},
   "outputs": [],
   "source": [
    "noize = [i[:int(202/5*0.1)].mean() for i in Xdb]\n",
    "print(Xdb.shape)"
   ]
  },
  {
   "cell_type": "code",
   "execution_count": null,
   "metadata": {},
   "outputs": [],
   "source": [
    "# for i in range(len(Xdb)):\n",
    "#     for j in range(len(Xdb[i])):\n",
    "#         Xdb[i][j] -= noize[i]\n",
    "for i in range(len(Xdb)):\n",
    "    for j in range(len(Xdb[i])):\n",
    "        if Xdb[i][j]<0:\n",
    "            Xdb[i][j] = 0"
   ]
  },
  {
   "cell_type": "code",
   "execution_count": null,
   "metadata": {},
   "outputs": [],
   "source": [
    "plt.figure(figsize=(24, 10))\n",
    "plt.axis([0,96,0,1000])\n",
    "librosa.display.specshow(Xdb, sr=sr, x_axis='time', y_axis='log')\n",
    "plt.colorbar()"
   ]
  },
  {
   "cell_type": "code",
   "execution_count": null,
   "metadata": {},
   "outputs": [],
   "source": [
    "Xdbt = Xdb.transpose()"
   ]
  },
  {
   "cell_type": "code",
   "execution_count": null,
   "metadata": {},
   "outputs": [],
   "source": [
    "y_coords = librosa.display.__mesh_coords('log',None,Xdb.shape[0])\n",
    "y_coords[13]"
   ]
  },
  {
   "cell_type": "code",
   "execution_count": null,
   "metadata": {},
   "outputs": [],
   "source": [
    "Xdbt.shape"
   ]
  },
  {
   "cell_type": "code",
   "execution_count": null,
   "metadata": {},
   "outputs": [],
   "source": [
    "Diff = []\n",
    "for time in range(len(Xdbt)-1):\n",
    "    Diff.append([])\n",
    "    for hz in range(len(Xdbt[time])):\n",
    "        if Xdbt[time][hz] == 0:\n",
    "            Diff[time].append(100)\n",
    "        else:\n",
    "            Diff[time].append(Xdbt[time+1][hz] - Xdbt[time][hz])\n",
    "        \n",
    "Diff = np.array(Diff)\n",
    "Diff = Diff.transpose()\n",
    "\n",
    "plt.figure(figsize=(14, 6))\n",
    "plt.axis([0,96,0,1000])\n",
    "librosa.display.specshow(Diff,sr = sr, x_axis = 'time',y_axis = 'log')\n",
    "plt.colorbar()\n",
    "\n",
    "Diff = Diff.transpose()"
   ]
  },
  {
   "cell_type": "code",
   "execution_count": null,
   "metadata": {},
   "outputs": [],
   "source": [
    "hertz_list = []\n",
    "infinum = 0\n",
    "supremum = 50\n",
    "for time in range(len(Diff)):\n",
    "    for hertz in range(len(Diff[time])):\n",
    "        if Diff[time][hertz] > infinum and Diff[time][hertz] < supremum:\n",
    "            hertz_list.append([time,hertz])"
   ]
  },
  {
   "cell_type": "code",
   "execution_count": null,
   "metadata": {
    "scrolled": false
   },
   "outputs": [],
   "source": [
    "# for time,hertz in hertz_list:\n",
    "#     print('Hz = {:.2f}; Diff = {:.2f}; Time = {:.2f} sec'.format(y_coords[hertz],Diff[time][hertz],time/430*10))"
   ]
  },
  {
   "cell_type": "code",
   "execution_count": null,
   "metadata": {},
   "outputs": [],
   "source": [
    "t = 32\n",
    "print(y_coords[t])\n",
    "angles = np.angle(X[t])\n",
    "amplitudes = np.abs(X[t])\n",
    "plt.figure(figsize = (24,8))\n",
    "plt.plot(amplitudes, '-r')"
   ]
  },
  {
   "cell_type": "code",
   "execution_count": null,
   "metadata": {},
   "outputs": [],
   "source": [
    "plt.figure(figsize=(24, 8))\n",
    "plt.plot(x[strt_stmp:end_stmp])"
   ]
  },
  {
   "cell_type": "code",
   "execution_count": null,
   "metadata": {},
   "outputs": [],
   "source": [
    "plt.figure(figsize=(24, 8))\n",
    "plt.axis([0,96,0,1000])\n",
    "librosa.display.specshow(Xdb, sr=sr, x_axis='time', y_axis='log')\n",
    "plt.colorbar()"
   ]
  },
  {
   "cell_type": "code",
   "execution_count": null,
   "metadata": {},
   "outputs": [],
   "source": []
  }
 ],
 "metadata": {
  "kernelspec": {
   "display_name": "Python 3",
   "language": "python",
   "name": "python3"
  },
  "language_info": {
   "codemirror_mode": {
    "name": "ipython",
    "version": 3
   },
   "file_extension": ".py",
   "mimetype": "text/x-python",
   "name": "python",
   "nbconvert_exporter": "python",
   "pygments_lexer": "ipython3",
   "version": "3.6.8"
  }
 },
 "nbformat": 4,
 "nbformat_minor": 2
}
